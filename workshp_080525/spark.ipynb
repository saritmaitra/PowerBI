{
  "nbformat": 4,
  "nbformat_minor": 0,
  "metadata": {
    "colab": {
      "provenance": []
    },
    "kernelspec": {
      "name": "python3",
      "display_name": "Python 3"
    },
    "language_info": {
      "name": "python"
    }
  },
  "cells": [
    {
      "cell_type": "code",
      "execution_count": 1,
      "metadata": {
        "id": "I68tRLyvWZ5B",
        "colab": {
          "base_uri": "https://localhost:8080/"
        },
        "outputId": "501a817f-1dc4-4c1d-e5d8-d9d36cfecadb"
      },
      "outputs": [
        {
          "output_type": "stream",
          "name": "stdout",
          "text": [
            "tar: spark-3.0.1-bin-hadoop2.7.tgz: Cannot open: No such file or directory\n",
            "tar: Error is not recoverable: exiting now\n",
            "Requirement already satisfied: pyspark in /usr/local/lib/python3.11/dist-packages (3.5.1)\n",
            "Requirement already satisfied: py4j==0.10.9.7 in /usr/local/lib/python3.11/dist-packages (from pyspark) (0.10.9.7)\n",
            "update-alternatives: using /usr/lib/jvm/java-8-openjdk-amd64/jre/bin/java to provide /usr/bin/java (java) in manual mode\n",
            "openjdk version \"1.8.0_442\"\n",
            "OpenJDK Runtime Environment (build 1.8.0_442-8u442-b06~us1-0ubuntu1~22.04-b06)\n",
            "OpenJDK 64-Bit Server VM (build 25.442-b06, mixed mode)\n"
          ]
        }
      ],
      "source": [
        "!apt-get install openjdk-8-jdk-headless -qq > /dev/null\n",
        "!wget -q https://downloads.apache.org/spark/spark-3.0.1/spark-3.0.1-bin-hadoop2.7.tgz\n",
        "!tar xf spark-3.0.1-bin-hadoop2.7.tgz\n",
        "!pip install -q findspark\n",
        "!pip install pyspark\n",
        "import os\n",
        "os.environ[\"JAVA_HOME\"] = \"/usr/lib/jvm/java-8-openjdk-amd64\"\n",
        "!update-alternatives --set java /usr/lib/jvm/java-8-openjdk-amd64/jre/bin/java\n",
        "!java -version"
      ]
    },
    {
      "cell_type": "code",
      "source": [
        "import pyspark\n",
        "import random\n",
        "from pyspark.sql import SparkSession"
      ],
      "metadata": {
        "id": "wBK1yx5HW2q6"
      },
      "execution_count": 2,
      "outputs": []
    },
    {
      "cell_type": "code",
      "source": [
        "spark = SparkSession \\\n",
        "    .builder \\\n",
        "    .appName(\"Python Spark SQL demo\") \\\n",
        "    .getOrCreate()\n",
        "\n",
        "print(\"Initialization successful\")"
      ],
      "metadata": {
        "colab": {
          "base_uri": "https://localhost:8080/"
        },
        "id": "EgX_8rljWvXK",
        "outputId": "0f25512b-c750-44b9-f4d1-9c0965d1fdbf"
      },
      "execution_count": 3,
      "outputs": [
        {
          "output_type": "stream",
          "name": "stdout",
          "text": [
            "Initialization successful\n"
          ]
        }
      ]
    },
    {
      "cell_type": "markdown",
      "source": [
        "## **Pyspark**"
      ],
      "metadata": {
        "id": "83OwzS9zYDSS"
      }
    },
    {
      "cell_type": "code",
      "source": [
        "data = spark.read.option(\"header\", \"true\").option(\"inferSchema\", \"true\").option(\"delimiter\", \";\").csv(\"/content/cars (2).csv\")\n",
        "data.printSchema()"
      ],
      "metadata": {
        "colab": {
          "base_uri": "https://localhost:8080/"
        },
        "id": "ZFJmZjMoW9wC",
        "outputId": "3e457c0a-b2c5-4c48-b70b-fe52f0bfee0b"
      },
      "execution_count": 6,
      "outputs": [
        {
          "output_type": "stream",
          "name": "stdout",
          "text": [
            "root\n",
            " |-- Car: string (nullable = true)\n",
            " |-- MPG: double (nullable = true)\n",
            " |-- Cylinders: integer (nullable = true)\n",
            " |-- Displacement: double (nullable = true)\n",
            " |-- Horsepower: double (nullable = true)\n",
            " |-- Weight: decimal(4,0) (nullable = true)\n",
            " |-- Acceleration: double (nullable = true)\n",
            " |-- Model: integer (nullable = true)\n",
            " |-- Origin: string (nullable = true)\n",
            "\n"
          ]
        }
      ]
    },
    {
      "cell_type": "code",
      "source": [
        "data.show()"
      ],
      "metadata": {
        "colab": {
          "base_uri": "https://localhost:8080/"
        },
        "id": "WAB6EQUPXct7",
        "outputId": "4b0c4d52-c835-4bc3-cb9a-7d9099465ec1"
      },
      "execution_count": 11,
      "outputs": [
        {
          "output_type": "stream",
          "name": "stdout",
          "text": [
            "+--------------------+----+---------+------------+----------+------+------------+-----+------+\n",
            "|                 Car| MPG|Cylinders|Displacement|Horsepower|Weight|Acceleration|Model|Origin|\n",
            "+--------------------+----+---------+------------+----------+------+------------+-----+------+\n",
            "|Chevrolet Chevell...|18.0|        8|       307.0|     130.0|  3504|        12.0|   70|    US|\n",
            "|   Buick Skylark 320|15.0|        8|       350.0|     165.0|  3693|        11.5|   70|    US|\n",
            "|  Plymouth Satellite|18.0|        8|       318.0|     150.0|  3436|        11.0|   70|    US|\n",
            "|       AMC Rebel SST|16.0|        8|       304.0|     150.0|  3433|        12.0|   70|    US|\n",
            "|         Ford Torino|17.0|        8|       302.0|     140.0|  3449|        10.5|   70|    US|\n",
            "|    Ford Galaxie 500|15.0|        8|       429.0|     198.0|  4341|        10.0|   70|    US|\n",
            "|    Chevrolet Impala|14.0|        8|       454.0|     220.0|  4354|         9.0|   70|    US|\n",
            "|   Plymouth Fury iii|14.0|        8|       440.0|     215.0|  4312|         8.5|   70|    US|\n",
            "|    Pontiac Catalina|14.0|        8|       455.0|     225.0|  4425|        10.0|   70|    US|\n",
            "|  AMC Ambassador DPL|15.0|        8|       390.0|     190.0|  3850|         8.5|   70|    US|\n",
            "|Citroen DS-21 Pallas| 0.0|        4|       133.0|     115.0|  3090|        17.5|   70|Europe|\n",
            "|Chevrolet Chevell...| 0.0|        8|       350.0|     165.0|  4142|        11.5|   70|    US|\n",
            "|    Ford Torino (sw)| 0.0|        8|       351.0|     153.0|  4034|        11.0|   70|    US|\n",
            "|Plymouth Satellit...| 0.0|        8|       383.0|     175.0|  4166|        10.5|   70|    US|\n",
            "|  AMC Rebel SST (sw)| 0.0|        8|       360.0|     175.0|  3850|        11.0|   70|    US|\n",
            "| Dodge Challenger SE|15.0|        8|       383.0|     170.0|  3563|        10.0|   70|    US|\n",
            "|  Plymouth 'Cuda 340|14.0|        8|       340.0|     160.0|  3609|         8.0|   70|    US|\n",
            "|Ford Mustang Boss...| 0.0|        8|       302.0|     140.0|  3353|         8.0|   70|    US|\n",
            "|Chevrolet Monte C...|15.0|        8|       400.0|     150.0|  3761|         9.5|   70|    US|\n",
            "|Buick Estate Wago...|14.0|        8|       455.0|     225.0|  3086|        10.0|   70|    US|\n",
            "+--------------------+----+---------+------------+----------+------+------------+-----+------+\n",
            "only showing top 20 rows\n",
            "\n"
          ]
        }
      ]
    },
    {
      "cell_type": "markdown",
      "source": [
        "## **SparkSQL**"
      ],
      "metadata": {
        "id": "B0NLKOpaYKhR"
      }
    },
    {
      "cell_type": "code",
      "source": [
        "data.createOrReplaceTempView(\"data\")\n",
        "spark.sql(\"SELECT * FROM data\").show()"
      ],
      "metadata": {
        "colab": {
          "base_uri": "https://localhost:8080/"
        },
        "id": "oQAPVvIuXr2q",
        "outputId": "457f4c79-b7e0-45f3-d0c2-6666b5f653b3"
      },
      "execution_count": 16,
      "outputs": [
        {
          "output_type": "stream",
          "name": "stdout",
          "text": [
            "+--------------------+----+---------+------------+----------+------+------------+-----+------+\n",
            "|                 Car| MPG|Cylinders|Displacement|Horsepower|Weight|Acceleration|Model|Origin|\n",
            "+--------------------+----+---------+------------+----------+------+------------+-----+------+\n",
            "|Chevrolet Chevell...|18.0|        8|       307.0|     130.0|  3504|        12.0|   70|    US|\n",
            "|   Buick Skylark 320|15.0|        8|       350.0|     165.0|  3693|        11.5|   70|    US|\n",
            "|  Plymouth Satellite|18.0|        8|       318.0|     150.0|  3436|        11.0|   70|    US|\n",
            "|       AMC Rebel SST|16.0|        8|       304.0|     150.0|  3433|        12.0|   70|    US|\n",
            "|         Ford Torino|17.0|        8|       302.0|     140.0|  3449|        10.5|   70|    US|\n",
            "|    Ford Galaxie 500|15.0|        8|       429.0|     198.0|  4341|        10.0|   70|    US|\n",
            "|    Chevrolet Impala|14.0|        8|       454.0|     220.0|  4354|         9.0|   70|    US|\n",
            "|   Plymouth Fury iii|14.0|        8|       440.0|     215.0|  4312|         8.5|   70|    US|\n",
            "|    Pontiac Catalina|14.0|        8|       455.0|     225.0|  4425|        10.0|   70|    US|\n",
            "|  AMC Ambassador DPL|15.0|        8|       390.0|     190.0|  3850|         8.5|   70|    US|\n",
            "|Citroen DS-21 Pallas| 0.0|        4|       133.0|     115.0|  3090|        17.5|   70|Europe|\n",
            "|Chevrolet Chevell...| 0.0|        8|       350.0|     165.0|  4142|        11.5|   70|    US|\n",
            "|    Ford Torino (sw)| 0.0|        8|       351.0|     153.0|  4034|        11.0|   70|    US|\n",
            "|Plymouth Satellit...| 0.0|        8|       383.0|     175.0|  4166|        10.5|   70|    US|\n",
            "|  AMC Rebel SST (sw)| 0.0|        8|       360.0|     175.0|  3850|        11.0|   70|    US|\n",
            "| Dodge Challenger SE|15.0|        8|       383.0|     170.0|  3563|        10.0|   70|    US|\n",
            "|  Plymouth 'Cuda 340|14.0|        8|       340.0|     160.0|  3609|         8.0|   70|    US|\n",
            "|Ford Mustang Boss...| 0.0|        8|       302.0|     140.0|  3353|         8.0|   70|    US|\n",
            "|Chevrolet Monte C...|15.0|        8|       400.0|     150.0|  3761|         9.5|   70|    US|\n",
            "|Buick Estate Wago...|14.0|        8|       455.0|     225.0|  3086|        10.0|   70|    US|\n",
            "+--------------------+----+---------+------------+----------+------+------------+-----+------+\n",
            "only showing top 20 rows\n",
            "\n"
          ]
        }
      ]
    },
    {
      "cell_type": "code",
      "source": [
        "spark.sql(\"SELECT Car, MPG, Horsepower, Origin FROM data\").show()"
      ],
      "metadata": {
        "colab": {
          "base_uri": "https://localhost:8080/"
        },
        "id": "ewufv9TPYQV5",
        "outputId": "008d0ee6-9128-4235-9a1c-52cc2cf6fa05"
      },
      "execution_count": 17,
      "outputs": [
        {
          "output_type": "stream",
          "name": "stdout",
          "text": [
            "+--------------------+----+----------+------+\n",
            "|                 Car| MPG|Horsepower|Origin|\n",
            "+--------------------+----+----------+------+\n",
            "|Chevrolet Chevell...|18.0|     130.0|    US|\n",
            "|   Buick Skylark 320|15.0|     165.0|    US|\n",
            "|  Plymouth Satellite|18.0|     150.0|    US|\n",
            "|       AMC Rebel SST|16.0|     150.0|    US|\n",
            "|         Ford Torino|17.0|     140.0|    US|\n",
            "|    Ford Galaxie 500|15.0|     198.0|    US|\n",
            "|    Chevrolet Impala|14.0|     220.0|    US|\n",
            "|   Plymouth Fury iii|14.0|     215.0|    US|\n",
            "|    Pontiac Catalina|14.0|     225.0|    US|\n",
            "|  AMC Ambassador DPL|15.0|     190.0|    US|\n",
            "|Citroen DS-21 Pallas| 0.0|     115.0|Europe|\n",
            "|Chevrolet Chevell...| 0.0|     165.0|    US|\n",
            "|    Ford Torino (sw)| 0.0|     153.0|    US|\n",
            "|Plymouth Satellit...| 0.0|     175.0|    US|\n",
            "|  AMC Rebel SST (sw)| 0.0|     175.0|    US|\n",
            "| Dodge Challenger SE|15.0|     170.0|    US|\n",
            "|  Plymouth 'Cuda 340|14.0|     160.0|    US|\n",
            "|Ford Mustang Boss...| 0.0|     140.0|    US|\n",
            "|Chevrolet Monte C...|15.0|     150.0|    US|\n",
            "|Buick Estate Wago...|14.0|     225.0|    US|\n",
            "+--------------------+----+----------+------+\n",
            "only showing top 20 rows\n",
            "\n"
          ]
        }
      ]
    },
    {
      "cell_type": "code",
      "source": [
        "spark.sql(\"SELECT * FROM data WHERE Origin = 'US'\").show()"
      ],
      "metadata": {
        "colab": {
          "base_uri": "https://localhost:8080/"
        },
        "id": "PdASRBgBYfy6",
        "outputId": "54f1e290-e38d-4423-a351-04730dd264bf"
      },
      "execution_count": 18,
      "outputs": [
        {
          "output_type": "stream",
          "name": "stdout",
          "text": [
            "+--------------------+----+---------+------------+----------+------+------------+-----+------+\n",
            "|                 Car| MPG|Cylinders|Displacement|Horsepower|Weight|Acceleration|Model|Origin|\n",
            "+--------------------+----+---------+------------+----------+------+------------+-----+------+\n",
            "|Chevrolet Chevell...|18.0|        8|       307.0|     130.0|  3504|        12.0|   70|    US|\n",
            "|   Buick Skylark 320|15.0|        8|       350.0|     165.0|  3693|        11.5|   70|    US|\n",
            "|  Plymouth Satellite|18.0|        8|       318.0|     150.0|  3436|        11.0|   70|    US|\n",
            "|       AMC Rebel SST|16.0|        8|       304.0|     150.0|  3433|        12.0|   70|    US|\n",
            "|         Ford Torino|17.0|        8|       302.0|     140.0|  3449|        10.5|   70|    US|\n",
            "|    Ford Galaxie 500|15.0|        8|       429.0|     198.0|  4341|        10.0|   70|    US|\n",
            "|    Chevrolet Impala|14.0|        8|       454.0|     220.0|  4354|         9.0|   70|    US|\n",
            "|   Plymouth Fury iii|14.0|        8|       440.0|     215.0|  4312|         8.5|   70|    US|\n",
            "|    Pontiac Catalina|14.0|        8|       455.0|     225.0|  4425|        10.0|   70|    US|\n",
            "|  AMC Ambassador DPL|15.0|        8|       390.0|     190.0|  3850|         8.5|   70|    US|\n",
            "|Chevrolet Chevell...| 0.0|        8|       350.0|     165.0|  4142|        11.5|   70|    US|\n",
            "|    Ford Torino (sw)| 0.0|        8|       351.0|     153.0|  4034|        11.0|   70|    US|\n",
            "|Plymouth Satellit...| 0.0|        8|       383.0|     175.0|  4166|        10.5|   70|    US|\n",
            "|  AMC Rebel SST (sw)| 0.0|        8|       360.0|     175.0|  3850|        11.0|   70|    US|\n",
            "| Dodge Challenger SE|15.0|        8|       383.0|     170.0|  3563|        10.0|   70|    US|\n",
            "|  Plymouth 'Cuda 340|14.0|        8|       340.0|     160.0|  3609|         8.0|   70|    US|\n",
            "|Ford Mustang Boss...| 0.0|        8|       302.0|     140.0|  3353|         8.0|   70|    US|\n",
            "|Chevrolet Monte C...|15.0|        8|       400.0|     150.0|  3761|         9.5|   70|    US|\n",
            "|Buick Estate Wago...|14.0|        8|       455.0|     225.0|  3086|        10.0|   70|    US|\n",
            "|     Plymouth Duster|22.0|        6|       198.0|      95.0|  2833|        15.5|   70|    US|\n",
            "+--------------------+----+---------+------------+----------+------+------------+-----+------+\n",
            "only showing top 20 rows\n",
            "\n"
          ]
        }
      ]
    },
    {
      "cell_type": "code",
      "source": [
        "spark.sql(\"SELECT Car, MPG FROM data WHERE MPG > 25\").show()"
      ],
      "metadata": {
        "colab": {
          "base_uri": "https://localhost:8080/"
        },
        "id": "QIFb9CH4YmHo",
        "outputId": "d2a256a8-e400-4c38-e54a-9a04d71ec25f"
      },
      "execution_count": 20,
      "outputs": [
        {
          "output_type": "stream",
          "name": "stdout",
          "text": [
            "+--------------------+----+\n",
            "|                 Car| MPG|\n",
            "+--------------------+----+\n",
            "|        Datsun PL510|27.0|\n",
            "|Volkswagen 1131 D...|26.0|\n",
            "|            BMW 2002|26.0|\n",
            "|        Datsun PL510|27.0|\n",
            "| Chevrolet Vega 2300|28.0|\n",
            "|           Opel 1900|28.0|\n",
            "|         Peugeot 304|30.0|\n",
            "|           Fiat 124B|30.0|\n",
            "| Toyota Corolla 1200|31.0|\n",
            "|         Datsun 1200|35.0|\n",
            "|Volkswagen Model 111|27.0|\n",
            "|    Plymouth Cricket|26.0|\n",
            "|     Renault 12 (sw)|26.0|\n",
            "|     Datsun 510 (sw)|28.0|\n",
            "|     Dodge Colt (sw)|28.0|\n",
            "|Toyota Corolla 16...|27.0|\n",
            "|Volkswagen Super ...|26.0|\n",
            "|Fiat 124 Sport Coupe|26.0|\n",
            "|            Fiat 128|29.0|\n",
            "|         Datsun B210|31.0|\n",
            "+--------------------+----+\n",
            "only showing top 20 rows\n",
            "\n"
          ]
        }
      ]
    },
    {
      "cell_type": "code",
      "source": [
        "spark.sql(\"SELECT Origin, COUNT(*) as Count FROM cars_data GROUP BY Origin\").show()"
      ],
      "metadata": {
        "colab": {
          "base_uri": "https://localhost:8080/",
          "height": 391
        },
        "id": "uDKnhHX6YtyY",
        "outputId": "9b2aa81d-5477-402b-de90-cb92e8f0993c"
      },
      "execution_count": 23,
      "outputs": [
        {
          "output_type": "error",
          "ename": "AnalysisException",
          "evalue": "[TABLE_OR_VIEW_NOT_FOUND] The table or view `cars_data` cannot be found. Verify the spelling and correctness of the schema and catalog.\nIf you did not qualify the name with a schema, verify the current_schema() output, or qualify the name with the correct schema and catalog.\nTo tolerate the error on drop use DROP VIEW IF EXISTS or DROP TABLE IF EXISTS.; line 1 pos 38;\n'Aggregate ['Origin], ['Origin, count(1) AS Count#493L]\n+- 'UnresolvedRelation [cars_data], [], false\n",
          "traceback": [
            "\u001b[0;31m---------------------------------------------------------------------------\u001b[0m",
            "\u001b[0;31mAnalysisException\u001b[0m                         Traceback (most recent call last)",
            "\u001b[0;32m<ipython-input-23-05779ad6b236>\u001b[0m in \u001b[0;36m<cell line: 0>\u001b[0;34m()\u001b[0m\n\u001b[0;32m----> 1\u001b[0;31m \u001b[0mspark\u001b[0m\u001b[0;34m.\u001b[0m\u001b[0msql\u001b[0m\u001b[0;34m(\u001b[0m\u001b[0;34m\"SELECT Origin, COUNT(*) as Count FROM cars_data GROUP BY Origin\"\u001b[0m\u001b[0;34m)\u001b[0m\u001b[0;34m.\u001b[0m\u001b[0mshow\u001b[0m\u001b[0;34m(\u001b[0m\u001b[0mtruncate\u001b[0m\u001b[0;34m=\u001b[0m\u001b[0;32mFalse\u001b[0m\u001b[0;34m)\u001b[0m\u001b[0;34m\u001b[0m\u001b[0;34m\u001b[0m\u001b[0m\n\u001b[0m",
            "\u001b[0;32m/usr/local/lib/python3.11/dist-packages/pyspark/sql/session.py\u001b[0m in \u001b[0;36msql\u001b[0;34m(self, sqlQuery, args, **kwargs)\u001b[0m\n\u001b[1;32m   1629\u001b[0m                     \u001b[0;34m[\u001b[0m\u001b[0m_to_java_column\u001b[0m\u001b[0;34m(\u001b[0m\u001b[0mlit\u001b[0m\u001b[0;34m(\u001b[0m\u001b[0mv\u001b[0m\u001b[0;34m)\u001b[0m\u001b[0;34m)\u001b[0m \u001b[0;32mfor\u001b[0m \u001b[0mv\u001b[0m \u001b[0;32min\u001b[0m \u001b[0;34m(\u001b[0m\u001b[0margs\u001b[0m \u001b[0;32mor\u001b[0m \u001b[0;34m[\u001b[0m\u001b[0;34m]\u001b[0m\u001b[0;34m)\u001b[0m\u001b[0;34m]\u001b[0m\u001b[0;34m\u001b[0m\u001b[0;34m\u001b[0m\u001b[0m\n\u001b[1;32m   1630\u001b[0m                 )\n\u001b[0;32m-> 1631\u001b[0;31m             \u001b[0;32mreturn\u001b[0m \u001b[0mDataFrame\u001b[0m\u001b[0;34m(\u001b[0m\u001b[0mself\u001b[0m\u001b[0;34m.\u001b[0m\u001b[0m_jsparkSession\u001b[0m\u001b[0;34m.\u001b[0m\u001b[0msql\u001b[0m\u001b[0;34m(\u001b[0m\u001b[0msqlQuery\u001b[0m\u001b[0;34m,\u001b[0m \u001b[0mlitArgs\u001b[0m\u001b[0;34m)\u001b[0m\u001b[0;34m,\u001b[0m \u001b[0mself\u001b[0m\u001b[0;34m)\u001b[0m\u001b[0;34m\u001b[0m\u001b[0;34m\u001b[0m\u001b[0m\n\u001b[0m\u001b[1;32m   1632\u001b[0m         \u001b[0;32mfinally\u001b[0m\u001b[0;34m:\u001b[0m\u001b[0;34m\u001b[0m\u001b[0;34m\u001b[0m\u001b[0m\n\u001b[1;32m   1633\u001b[0m             \u001b[0;32mif\u001b[0m \u001b[0mlen\u001b[0m\u001b[0;34m(\u001b[0m\u001b[0mkwargs\u001b[0m\u001b[0;34m)\u001b[0m \u001b[0;34m>\u001b[0m \u001b[0;36m0\u001b[0m\u001b[0;34m:\u001b[0m\u001b[0;34m\u001b[0m\u001b[0;34m\u001b[0m\u001b[0m\n",
            "\u001b[0;32m/usr/local/lib/python3.11/dist-packages/py4j/java_gateway.py\u001b[0m in \u001b[0;36m__call__\u001b[0;34m(self, *args)\u001b[0m\n\u001b[1;32m   1320\u001b[0m \u001b[0;34m\u001b[0m\u001b[0m\n\u001b[1;32m   1321\u001b[0m         \u001b[0manswer\u001b[0m \u001b[0;34m=\u001b[0m \u001b[0mself\u001b[0m\u001b[0;34m.\u001b[0m\u001b[0mgateway_client\u001b[0m\u001b[0;34m.\u001b[0m\u001b[0msend_command\u001b[0m\u001b[0;34m(\u001b[0m\u001b[0mcommand\u001b[0m\u001b[0;34m)\u001b[0m\u001b[0;34m\u001b[0m\u001b[0;34m\u001b[0m\u001b[0m\n\u001b[0;32m-> 1322\u001b[0;31m         return_value = get_return_value(\n\u001b[0m\u001b[1;32m   1323\u001b[0m             answer, self.gateway_client, self.target_id, self.name)\n\u001b[1;32m   1324\u001b[0m \u001b[0;34m\u001b[0m\u001b[0m\n",
            "\u001b[0;32m/usr/local/lib/python3.11/dist-packages/pyspark/errors/exceptions/captured.py\u001b[0m in \u001b[0;36mdeco\u001b[0;34m(*a, **kw)\u001b[0m\n\u001b[1;32m    183\u001b[0m                 \u001b[0;31m# Hide where the exception came from that shows a non-Pythonic\u001b[0m\u001b[0;34m\u001b[0m\u001b[0;34m\u001b[0m\u001b[0m\n\u001b[1;32m    184\u001b[0m                 \u001b[0;31m# JVM exception message.\u001b[0m\u001b[0;34m\u001b[0m\u001b[0;34m\u001b[0m\u001b[0m\n\u001b[0;32m--> 185\u001b[0;31m                 \u001b[0;32mraise\u001b[0m \u001b[0mconverted\u001b[0m \u001b[0;32mfrom\u001b[0m \u001b[0;32mNone\u001b[0m\u001b[0;34m\u001b[0m\u001b[0;34m\u001b[0m\u001b[0m\n\u001b[0m\u001b[1;32m    186\u001b[0m             \u001b[0;32melse\u001b[0m\u001b[0;34m:\u001b[0m\u001b[0;34m\u001b[0m\u001b[0;34m\u001b[0m\u001b[0m\n\u001b[1;32m    187\u001b[0m                 \u001b[0;32mraise\u001b[0m\u001b[0;34m\u001b[0m\u001b[0;34m\u001b[0m\u001b[0m\n",
            "\u001b[0;31mAnalysisException\u001b[0m: [TABLE_OR_VIEW_NOT_FOUND] The table or view `cars_data` cannot be found. Verify the spelling and correctness of the schema and catalog.\nIf you did not qualify the name with a schema, verify the current_schema() output, or qualify the name with the correct schema and catalog.\nTo tolerate the error on drop use DROP VIEW IF EXISTS or DROP TABLE IF EXISTS.; line 1 pos 38;\n'Aggregate ['Origin], ['Origin, count(1) AS Count#493L]\n+- 'UnresolvedRelation [cars_data], [], false\n"
          ]
        }
      ]
    },
    {
      "cell_type": "code",
      "source": [
        "cars_by_origin = data.groupBy(\"Origin\").count()\n",
        "cars_by_origin.show(truncate=False)"
      ],
      "metadata": {
        "colab": {
          "base_uri": "https://localhost:8080/"
        },
        "id": "WTrVu34UY25x",
        "outputId": "035edc0b-0d87-4796-984c-323a97ac7418"
      },
      "execution_count": 24,
      "outputs": [
        {
          "output_type": "stream",
          "name": "stdout",
          "text": [
            "+------+-----+\n",
            "|Origin|count|\n",
            "+------+-----+\n",
            "|Europe|73   |\n",
            "|US    |254  |\n",
            "|Japan |79   |\n",
            "+------+-----+\n",
            "\n"
          ]
        }
      ]
    },
    {
      "cell_type": "code",
      "source": [
        "spark.sql(\"SELECT AVG(Horsepower) as Avg_Horsepower FROM data WHERE Cylinders = 4\").show()"
      ],
      "metadata": {
        "colab": {
          "base_uri": "https://localhost:8080/"
        },
        "id": "gYLXLNbHY8jo",
        "outputId": "0bf99785-f37b-4282-8f22-21a9ffb0badc"
      },
      "execution_count": 25,
      "outputs": [
        {
          "output_type": "stream",
          "name": "stdout",
          "text": [
            "+-----------------+\n",
            "|Avg_Horsepower   |\n",
            "+-----------------+\n",
            "|76.57487922705315|\n",
            "+-----------------+\n",
            "\n"
          ]
        }
      ]
    },
    {
      "cell_type": "code",
      "source": [
        "spark.sql(\"SELECT Origin, AVG(MPG) as Average_MPG FROM data GROUP BY Origin\").show()"
      ],
      "metadata": {
        "colab": {
          "base_uri": "https://localhost:8080/"
        },
        "id": "9JOgjfNdZCKA",
        "outputId": "973bcf97-fb0a-4ccf-bf41-914b1be224c0"
      },
      "execution_count": 26,
      "outputs": [
        {
          "output_type": "stream",
          "name": "stdout",
          "text": [
            "+------+------------------+\n",
            "|Origin|Average_MPG       |\n",
            "+------+------------------+\n",
            "|Europe|26.745205479452057|\n",
            "|US    |19.688188976377948|\n",
            "|Japan |30.450632911392397|\n",
            "+------+------------------+\n",
            "\n"
          ]
        }
      ]
    },
    {
      "cell_type": "code",
      "source": [
        "spark.sql(\"SELECT Origin, MAX(Horsepower) as Max_Horsepower FROM data GROUP BY Origin\").show()"
      ],
      "metadata": {
        "colab": {
          "base_uri": "https://localhost:8080/"
        },
        "id": "MdYDqGmiZJUw",
        "outputId": "9a2ae5f4-c0f5-4354-d828-9bfdb4417dbc"
      },
      "execution_count": 27,
      "outputs": [
        {
          "output_type": "stream",
          "name": "stdout",
          "text": [
            "+------+--------------+\n",
            "|Origin|Max_Horsepower|\n",
            "+------+--------------+\n",
            "|Europe|133.0         |\n",
            "|US    |230.0         |\n",
            "|Japan |132.0         |\n",
            "+------+--------------+\n",
            "\n"
          ]
        }
      ]
    },
    {
      "cell_type": "code",
      "source": [
        "spark.sql(\"SELECT Car, MPG FROM data ORDER BY MPG DESC\").show()"
      ],
      "metadata": {
        "colab": {
          "base_uri": "https://localhost:8080/"
        },
        "id": "rTgA33LkZN1A",
        "outputId": "890066d5-604d-416f-c8ec-44ff9bcd8779"
      },
      "execution_count": 28,
      "outputs": [
        {
          "output_type": "stream",
          "name": "stdout",
          "text": [
            "+--------------------+----+\n",
            "|                 Car| MPG|\n",
            "+--------------------+----+\n",
            "|           Mazda GLC|46.6|\n",
            "| Honda Civic 1500 gl|44.6|\n",
            "|Volkswagen Rabbit...|44.3|\n",
            "|   Volkswagen Pickup|44.0|\n",
            "|Volkswagen Dasher...|43.4|\n",
            "|Volkswagen Rabbit...|43.1|\n",
            "|   Volkswagen Rabbit|41.5|\n",
            "|Renault Lecar Deluxe|40.9|\n",
            "|          Datsun 210|40.8|\n",
            "|      Datsun B210 GX|39.4|\n",
            "|      Toyota Starlet|39.1|\n",
            "|      Plymouth Champ|39.0|\n",
            "|Toyota Corolla Te...|38.1|\n",
            "|Plymouth Horizon ...|38.0|\n",
            "|         Honda Civic|38.0|\n",
            "|       Datsun 310 GX|38.0|\n",
            "|Oldsmobile Cutlas...|38.0|\n",
            "|       Toyota Tercel|37.7|\n",
            "|  Fiat Strada Custom|37.3|\n",
            "|          Datsun 310|37.2|\n",
            "+--------------------+----+\n",
            "only showing top 20 rows\n",
            "\n"
          ]
        }
      ]
    },
    {
      "cell_type": "code",
      "source": [
        "spark.sql(\"SELECT Car, Weight, Horsepower FROM data ORDER BY Weight ASC, Horsepower DESC\").show()"
      ],
      "metadata": {
        "colab": {
          "base_uri": "https://localhost:8080/"
        },
        "id": "CvmJBxNuZZri",
        "outputId": "c9f0ea6f-e85d-4f1d-a46d-759281ae147a"
      },
      "execution_count": 29,
      "outputs": [
        {
          "output_type": "stream",
          "name": "stdout",
          "text": [
            "+--------------------+------+----------+\n",
            "|                 Car|Weight|Horsepower|\n",
            "+--------------------+------+----------+\n",
            "|         Datsun 1200|  1613|      69.0|\n",
            "|      Toyota Corolla|  1649|      52.0|\n",
            "|      Toyota Starlet|  1755|      58.0|\n",
            "|    Honda Civic 1300|  1760|      60.0|\n",
            "| Toyota Corolla 1200|  1773|      65.0|\n",
            "|    Honda Civic CVCC|  1795|      53.0|\n",
            "|         Honda Civic|  1795|      53.0|\n",
            "|         Ford Fiesta|  1800|      66.0|\n",
            "|    Honda Civic CVCC|  1800|      60.0|\n",
            "|   Volkswagen Rabbit|  1825|      71.0|\n",
            "|       Renault 5 GTL|  1825|      58.0|\n",
            "|Volkswagen Model 111|  1834|      60.0|\n",
            "|Volkswagen 1131 D...|  1835|      46.0|\n",
            "|Renault Lecar Deluxe|  1835|       0.0|\n",
            "| Toyota Corolla 1200|  1836|      65.0|\n",
            "|   Volkswagen Rabbit|  1845|      62.0|\n",
            "| Honda Civic 1500 gl|  1850|      67.0|\n",
            "|            Fiat 128|  1867|      49.0|\n",
            "|      Plymouth Champ|  1875|      64.0|\n",
            "|Dodge Colt Hatchb...|  1915|      80.0|\n",
            "+--------------------+------+----------+\n",
            "only showing top 20 rows\n",
            "\n"
          ]
        }
      ]
    },
    {
      "cell_type": "code",
      "source": [
        "spark.sql(\"SELECT Model, Origin, COUNT(*) as Count FROM data GROUP BY Model, Origin ORDER BY Model, Origin\").show()"
      ],
      "metadata": {
        "colab": {
          "base_uri": "https://localhost:8080/"
        },
        "id": "YCzT1naqZgER",
        "outputId": "c7da428c-c334-49bc-82d6-096075eba22c"
      },
      "execution_count": 30,
      "outputs": [
        {
          "output_type": "stream",
          "name": "stdout",
          "text": [
            "+-----+------+-----+\n",
            "|Model|Origin|Count|\n",
            "+-----+------+-----+\n",
            "|   70|Europe|    6|\n",
            "|   70| Japan|    2|\n",
            "|   70|    US|   27|\n",
            "|   71|Europe|    5|\n",
            "|   71| Japan|    4|\n",
            "|   71|    US|   20|\n",
            "|   72|Europe|    5|\n",
            "|   72| Japan|    5|\n",
            "|   72|    US|   18|\n",
            "|   73|Europe|    7|\n",
            "|   73| Japan|    4|\n",
            "|   73|    US|   29|\n",
            "|   74|Europe|    6|\n",
            "|   74| Japan|    6|\n",
            "|   74|    US|   15|\n",
            "|   75|Europe|    6|\n",
            "|   75| Japan|    4|\n",
            "|   75|    US|   20|\n",
            "|   76|Europe|    8|\n",
            "|   76| Japan|    4|\n",
            "+-----+------+-----+\n",
            "only showing top 20 rows\n",
            "\n"
          ]
        }
      ]
    },
    {
      "cell_type": "code",
      "source": [
        "spark.sql(\"SELECT percentile_approx(MPG, 0.5) as Median_MPG FROM data\").show()"
      ],
      "metadata": {
        "colab": {
          "base_uri": "https://localhost:8080/"
        },
        "id": "K6QwGH3NZoZJ",
        "outputId": "141a4560-e8d4-4bba-87e1-f36582da94a1"
      },
      "execution_count": 31,
      "outputs": [
        {
          "output_type": "stream",
          "name": "stdout",
          "text": [
            "+----------+\n",
            "|Median_MPG|\n",
            "+----------+\n",
            "|      22.3|\n",
            "+----------+\n",
            "\n"
          ]
        }
      ]
    },
    {
      "cell_type": "code",
      "source": [
        "spark.sql(\"SELECT Car, Acceleration FROM data WHERE Acceleration > (SELECT percentile_approx(Acceleration, 0.75) FROM data)\").show()"
      ],
      "metadata": {
        "colab": {
          "base_uri": "https://localhost:8080/"
        },
        "id": "aMa6YDtQZuYJ",
        "outputId": "6c45e464-c180-45f6-d41d-aa50aba56979"
      },
      "execution_count": 33,
      "outputs": [
        {
          "output_type": "stream",
          "name": "stdout",
          "text": [
            "+--------------------+------------+\n",
            "|                 Car|Acceleration|\n",
            "+--------------------+------------+\n",
            "|Citroen DS-21 Pallas|        17.5|\n",
            "|Volkswagen 1131 D...|        20.5|\n",
            "|         Peugeot 504|        17.5|\n",
            "|            Saab 99e|        17.5|\n",
            "|            Hi 1200D|        18.5|\n",
            "|          Ford Pinto|        19.0|\n",
            "|Volkswagen Super ...|        20.0|\n",
            "| Chevrolet Vega (sw)|        19.0|\n",
            "|         Peugeot 304|        19.5|\n",
            "| Toyota Corolla 1200|        19.0|\n",
            "|         Datsun 1200|        18.0|\n",
            "|Volkswagen Model 111|        19.0|\n",
            "|    Plymouth Cricket|        20.5|\n",
            "|   Volkswagen Type 3|        23.5|\n",
            "|      Chevrolet Vega|        19.5|\n",
            "| Volkswagen 411 (sw)|        18.0|\n",
            "|    Peugeot 504 (sw)|        19.5|\n",
            "|     Renault 12 (sw)|        18.0|\n",
            "|Chevrolet Nova Cu...|        18.0|\n",
            "|Volkswagen Super ...|        21.0|\n",
            "+--------------------+------------+\n",
            "only showing top 20 rows\n",
            "\n"
          ]
        }
      ]
    },
    {
      "cell_type": "code",
      "source": [
        "spark.sql(\"SELECT * FROM data WHERE MPG IS NULL\").show(truncate=False)"
      ],
      "metadata": {
        "colab": {
          "base_uri": "https://localhost:8080/"
        },
        "id": "qTo-6qKwab6C",
        "outputId": "f14730ec-6e53-4281-f561-9c46e2366361"
      },
      "execution_count": 34,
      "outputs": [
        {
          "output_type": "stream",
          "name": "stdout",
          "text": [
            "+---+---+---------+------------+----------+------+------------+-----+------+\n",
            "|Car|MPG|Cylinders|Displacement|Horsepower|Weight|Acceleration|Model|Origin|\n",
            "+---+---+---------+------------+----------+------+------------+-----+------+\n",
            "+---+---+---------+------------+----------+------+------------+-----+------+\n",
            "\n"
          ]
        }
      ]
    },
    {
      "cell_type": "code",
      "source": [
        "spark.sql(\"SELECT AVG(Horsepower) as Avg_Horsepower FROM data\").first()[0]"
      ],
      "metadata": {
        "colab": {
          "base_uri": "https://localhost:8080/"
        },
        "id": "PAt1c5x7ah7Z",
        "outputId": "9cd68169-1761-4cf0-ecdf-941b9010e447"
      },
      "execution_count": 35,
      "outputs": [
        {
          "output_type": "execute_result",
          "data": {
            "text/plain": [
              "103.5295566502463"
            ]
          },
          "metadata": {},
          "execution_count": 35
        }
      ]
    }
  ]
}